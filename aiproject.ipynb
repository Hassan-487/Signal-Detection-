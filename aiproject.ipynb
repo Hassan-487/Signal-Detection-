{
 "cells": [
  {
   "cell_type": "code",
   "execution_count": null,
   "id": "01d6c715-bc0b-4eab-945e-4e3c33a2bffe",
   "metadata": {},
   "outputs": [
    {
     "name": "stderr",
     "output_type": "stream",
     "text": [
      "2025-05-06 22:30:07.404930: I tensorflow/core/platform/cpu_feature_guard.cc:210] This TensorFlow binary is optimized to use available CPU instructions in performance-critical operations.\n",
      "To enable the following instructions: SSE4.1 SSE4.2 AVX AVX2 FMA, in other operations, rebuild TensorFlow with the appropriate compiler flags.\n"
     ]
    },
    {
     "name": "stdout",
     "output_type": "stream",
     "text": [
      "(39209, 30, 30, 3)\n",
      "(39209,)\n"
     ]
    }
   ],
   "source": [
    "import numpy as np\n",
    "import pandas as pd\n",
    "import matplotlib.pyplot as plt\n",
    "import cv2\n",
    "import os\n",
    "from PIL import Image\n",
    "import tensorflow as tf\n",
    "from sklearn.model_selection import train_test_split\n",
    "from keras.utils import to_categorical\n",
    "from keras.models import Sequential,load_model\n",
    "from keras.layers import Conv2D, MaxPooling2D, Flatten, Dense, Dropout\n",
    "os.chdir('/home/hassan/Desktop/AIDATAset')\n",
    "\n",
    "datalist=[]\n",
    "labels=[]\n",
    "classes=43\n",
    "currentPath=os.getcwd()\n",
    "\n",
    "imgSize=30\n",
    "\n",
    "image_size = 30\n",
    "\n",
    "for class_id in range(classes):\n",
    "    class_path = os.path.join(currentPath,'train', str(class_id))\n",
    "    if not os.path.isdir(class_path):\n",
    "        continue  \n",
    "\n",
    "    for img_name in os.listdir(class_path):\n",
    "        try:\n",
    "            img_path = os.path.join(class_path, img_name)\n",
    "            img = Image.open(img_path)\n",
    "            img = img.resize((image_size, image_size))\n",
    "            img = np.array(img)\n",
    "            if img.shape != (30, 30, 3):\n",
    "                continue\n",
    "            datalist.append(img)\n",
    "            labels.append(class_id)\n",
    "        except Exception as e:\n",
    "            print(f\"Error loading image {img_path}: {e}\")\n",
    "datalist=np.array(datalist)\n",
    "labels=np.array(labels)\n",
    "if len(datalist) == 0:\n",
    "    raise ValueError(\"No valid images were loaded.\")\n",
    "\n",
    "np.save('./Training/data',datalist)\n",
    "np.save('./Training/target',labels)\n",
    "datalist=np.load('./Training/data.npy')\n",
    "labels=np.load('./Training/target.npy')\n",
    "print(datalist.shape)\n",
    "print(labels.shape)"
   ]
  },
  {
   "cell_type": "code",
   "execution_count": 2,
   "id": "33eb418e-d6d2-482a-baf0-36115052777a",
   "metadata": {},
   "outputs": [
    {
     "name": "stdout",
     "output_type": "stream",
     "text": [
      "(31367, 30, 30, 3) (7842, 30, 30, 3) (31367,) (7842,)\n"
     ]
    }
   ],
   "source": [
    "X_train,X_test,y_train,y_test=train_test_split(datalist,labels,test_size=0.2,random_state=0)\n",
    "print(X_train.shape,X_test.shape,y_train.shape,y_test.shape)"
   ]
  },
  {
   "cell_type": "code",
   "execution_count": 3,
   "id": "394c47f0-c156-41c9-bd45-447f497de62f",
   "metadata": {},
   "outputs": [],
   "source": [
    "y_train = to_categorical(y_train, num_classes=classes)\n",
    "y_test = to_categorical(y_test, num_classes=classes)\n"
   ]
  },
  {
   "cell_type": "code",
   "execution_count": 4,
   "id": "fec49591-1c55-422c-bad4-8b48bf622646",
   "metadata": {},
   "outputs": [
    {
     "name": "stderr",
     "output_type": "stream",
     "text": [
      "/home/hassan/miniconda3/envs/tf-env/lib/python3.12/site-packages/keras/src/layers/convolutional/base_conv.py:107: UserWarning: Do not pass an `input_shape`/`input_dim` argument to a layer. When using Sequential models, prefer using an `Input(shape)` object as the first layer in the model instead.\n",
      "  super().__init__(activity_regularizer=activity_regularizer, **kwargs)\n"
     ]
    }
   ],
   "source": [
    "X_train = X_train.astype('float32') / 255.0\n",
    "X_test = X_test.astype('float32') / 255.0\n",
    "model = Sequential()\n",
    "\n",
    "model.add(Conv2D(32, (3, 3), activation='relu', input_shape=(30, 30, 3)))\n",
    "model.add(MaxPooling2D(pool_size=(2, 2)))\n",
    "\n",
    "model.add(Conv2D(64, (3, 3), activation='relu'))\n",
    "model.add(MaxPooling2D(pool_size=(2, 2)))\n",
    "\n",
    "model.add(Flatten())\n",
    "model.add(Dense(128, activation='relu'))\n",
    "model.add(Dropout(0.5))\n",
    "\n",
    "model.add(Dense(classes, activation='softmax'))  # classes = 43\n"
   ]
  },
  {
   "cell_type": "code",
   "execution_count": 5,
   "id": "2910f335-bca7-4392-ab96-ae59941876a7",
   "metadata": {},
   "outputs": [],
   "source": [
    "model.compile(loss='categorical_crossentropy', optimizer='adam', metrics=['accuracy'])\n"
   ]
  },
  {
   "cell_type": "code",
   "execution_count": 6,
   "id": "7a384952-82ce-41e2-b32c-16593dbfbe57",
   "metadata": {
    "scrolled": true
   },
   "outputs": [
    {
     "name": "stdout",
     "output_type": "stream",
     "text": [
      "Epoch 1/20\n"
     ]
    },
    {
     "name": "stderr",
     "output_type": "stream",
     "text": [
      "2025-05-06 22:31:33.786150: W external/local_tsl/tsl/framework/cpu_allocator_impl.cc:83] Allocation of 338763600 exceeds 10% of free system memory.\n"
     ]
    },
    {
     "name": "stdout",
     "output_type": "stream",
     "text": [
      "\u001b[1m981/981\u001b[0m \u001b[32m━━━━━━━━━━━━━━━━━━━━\u001b[0m\u001b[37m\u001b[0m \u001b[1m36s\u001b[0m 35ms/step - accuracy: 0.3128 - loss: 2.5449 - val_accuracy: 0.8859 - val_loss: 0.4799\n",
      "Epoch 2/20\n",
      "\u001b[1m981/981\u001b[0m \u001b[32m━━━━━━━━━━━━━━━━━━━━\u001b[0m\u001b[37m\u001b[0m \u001b[1m48s\u001b[0m 49ms/step - accuracy: 0.7988 - loss: 0.6206 - val_accuracy: 0.9610 - val_loss: 0.1671\n",
      "Epoch 3/20\n",
      "\u001b[1m981/981\u001b[0m \u001b[32m━━━━━━━━━━━━━━━━━━━━\u001b[0m\u001b[37m\u001b[0m \u001b[1m38s\u001b[0m 39ms/step - accuracy: 0.8855 - loss: 0.3595 - val_accuracy: 0.9783 - val_loss: 0.1014\n",
      "Epoch 4/20\n",
      "\u001b[1m981/981\u001b[0m \u001b[32m━━━━━━━━━━━━━━━━━━━━\u001b[0m\u001b[37m\u001b[0m \u001b[1m40s\u001b[0m 41ms/step - accuracy: 0.9205 - loss: 0.2496 - val_accuracy: 0.9847 - val_loss: 0.0740\n",
      "Epoch 5/20\n",
      "\u001b[1m981/981\u001b[0m \u001b[32m━━━━━━━━━━━━━━━━━━━━\u001b[0m\u001b[37m\u001b[0m \u001b[1m35s\u001b[0m 35ms/step - accuracy: 0.9346 - loss: 0.2005 - val_accuracy: 0.9870 - val_loss: 0.0505\n",
      "Epoch 6/20\n",
      "\u001b[1m981/981\u001b[0m \u001b[32m━━━━━━━━━━━━━━━━━━━━\u001b[0m\u001b[37m\u001b[0m \u001b[1m41s\u001b[0m 36ms/step - accuracy: 0.9459 - loss: 0.1622 - val_accuracy: 0.9892 - val_loss: 0.0434\n",
      "Epoch 7/20\n",
      "\u001b[1m981/981\u001b[0m \u001b[32m━━━━━━━━━━━━━━━━━━━━\u001b[0m\u001b[37m\u001b[0m \u001b[1m37s\u001b[0m 38ms/step - accuracy: 0.9537 - loss: 0.1398 - val_accuracy: 0.9915 - val_loss: 0.0335\n",
      "Epoch 8/20\n",
      "\u001b[1m981/981\u001b[0m \u001b[32m━━━━━━━━━━━━━━━━━━━━\u001b[0m\u001b[37m\u001b[0m \u001b[1m34s\u001b[0m 35ms/step - accuracy: 0.9590 - loss: 0.1240 - val_accuracy: 0.9921 - val_loss: 0.0316\n",
      "Epoch 9/20\n",
      "\u001b[1m981/981\u001b[0m \u001b[32m━━━━━━━━━━━━━━━━━━━━\u001b[0m\u001b[37m\u001b[0m \u001b[1m34s\u001b[0m 35ms/step - accuracy: 0.9648 - loss: 0.1065 - val_accuracy: 0.9935 - val_loss: 0.0291\n",
      "Epoch 10/20\n",
      "\u001b[1m981/981\u001b[0m \u001b[32m━━━━━━━━━━━━━━━━━━━━\u001b[0m\u001b[37m\u001b[0m \u001b[1m34s\u001b[0m 35ms/step - accuracy: 0.9682 - loss: 0.0955 - val_accuracy: 0.9931 - val_loss: 0.0306\n",
      "Epoch 11/20\n",
      "\u001b[1m981/981\u001b[0m \u001b[32m━━━━━━━━━━━━━━━━━━━━\u001b[0m\u001b[37m\u001b[0m \u001b[1m36s\u001b[0m 36ms/step - accuracy: 0.9701 - loss: 0.0886 - val_accuracy: 0.9944 - val_loss: 0.0273\n",
      "Epoch 12/20\n",
      "\u001b[1m981/981\u001b[0m \u001b[32m━━━━━━━━━━━━━━━━━━━━\u001b[0m\u001b[37m\u001b[0m \u001b[1m35s\u001b[0m 35ms/step - accuracy: 0.9728 - loss: 0.0821 - val_accuracy: 0.9938 - val_loss: 0.0272\n",
      "Epoch 13/20\n",
      "\u001b[1m981/981\u001b[0m \u001b[32m━━━━━━━━━━━━━━━━━━━━\u001b[0m\u001b[37m\u001b[0m \u001b[1m35s\u001b[0m 36ms/step - accuracy: 0.9734 - loss: 0.0776 - val_accuracy: 0.9936 - val_loss: 0.0250\n",
      "Epoch 14/20\n",
      "\u001b[1m981/981\u001b[0m \u001b[32m━━━━━━━━━━━━━━━━━━━━\u001b[0m\u001b[37m\u001b[0m \u001b[1m35s\u001b[0m 36ms/step - accuracy: 0.9756 - loss: 0.0747 - val_accuracy: 0.9954 - val_loss: 0.0240\n",
      "Epoch 15/20\n",
      "\u001b[1m981/981\u001b[0m \u001b[32m━━━━━━━━━━━━━━━━━━━━\u001b[0m\u001b[37m\u001b[0m \u001b[1m34s\u001b[0m 35ms/step - accuracy: 0.9772 - loss: 0.0667 - val_accuracy: 0.9959 - val_loss: 0.0200\n",
      "Epoch 16/20\n",
      "\u001b[1m981/981\u001b[0m \u001b[32m━━━━━━━━━━━━━━━━━━━━\u001b[0m\u001b[37m\u001b[0m \u001b[1m37s\u001b[0m 38ms/step - accuracy: 0.9819 - loss: 0.0558 - val_accuracy: 0.9949 - val_loss: 0.0241\n",
      "Epoch 17/20\n",
      "\u001b[1m981/981\u001b[0m \u001b[32m━━━━━━━━━━━━━━━━━━━━\u001b[0m\u001b[37m\u001b[0m \u001b[1m33s\u001b[0m 33ms/step - accuracy: 0.9804 - loss: 0.0617 - val_accuracy: 0.9945 - val_loss: 0.0240\n",
      "Epoch 18/20\n",
      "\u001b[1m981/981\u001b[0m \u001b[32m━━━━━━━━━━━━━━━━━━━━\u001b[0m\u001b[37m\u001b[0m \u001b[1m37s\u001b[0m 38ms/step - accuracy: 0.9816 - loss: 0.0520 - val_accuracy: 0.9960 - val_loss: 0.0202\n",
      "Epoch 19/20\n",
      "\u001b[1m981/981\u001b[0m \u001b[32m━━━━━━━━━━━━━━━━━━━━\u001b[0m\u001b[37m\u001b[0m \u001b[1m34s\u001b[0m 34ms/step - accuracy: 0.9829 - loss: 0.0500 - val_accuracy: 0.9962 - val_loss: 0.0230\n",
      "Epoch 20/20\n",
      "\u001b[1m981/981\u001b[0m \u001b[32m━━━━━━━━━━━━━━━━━━━━\u001b[0m\u001b[37m\u001b[0m \u001b[1m34s\u001b[0m 35ms/step - accuracy: 0.9825 - loss: 0.0526 - val_accuracy: 0.9958 - val_loss: 0.0209\n"
     ]
    }
   ],
   "source": [
    "history = model.fit(X_train, y_train, batch_size=32, epochs=20, validation_data=(X_test, y_test))\n"
   ]
  },
  {
   "cell_type": "code",
   "execution_count": 8,
   "id": "a28e9a86-7530-46d8-a86d-7f73d29387a6",
   "metadata": {},
   "outputs": [
    {
     "data": {
      "image/png": "[encoded data removed]",
      "text/plain": [
       "<Figure size 640x480 with 1 Axes>"
      ]
     },
     "metadata": {},
     "output_type": "display_data"
    }
   ],
   "source": [
    "plt.figure(0)\n",
    "plt.plot(history.history['accuracy'],label='trainig accuracy')\n",
    "plt.plot(history.history['val_accuracy'],label='val accuracy')\n",
    "plt.title('ACCURACY')\n",
    "plt.xlabel('epochs')\n",
    "plt.ylabel('Accuracy')\n",
    "plt.legend()\n",
    "plt.show()"
   ]
  },
  {
   "cell_type": "code",
   "execution_count": 9,
   "id": "7c5fb8fd-7a83-4056-95cf-3c8a9c29017d",
   "metadata": {},
   "outputs": [],
   "source": [
    "def testing(testcsv):\n",
    "    y_label = pd.read_csv(testcsv)\n",
    "    labels = y_label[\"ClassId\"].values\n",
    "    images = y_label[\"Path\"].values\n",
    "    data = []\n",
    "    for img_path in images:\n",
    "        try:\n",
    "            img = Image.open(os.path.join(currentPath, img_path))\n",
    "            img = img.resize((30, 30))\n",
    "            img = np.array(img)\n",
    "            if img.shape != (30, 30, 3):\n",
    "                continue\n",
    "            data.append(img)\n",
    "        except Exception as e:\n",
    "            print(f\"Error loading image {img_path}: {e}\")\n",
    "\n",
    "    X_test = np.array(data).astype('float32') / 255.0 #list into array\n",
    "    return X_test, labels\n",
    "\n",
    "X_test,label=testing('Test.csv')    "
   ]
  },
  {
   "cell_type": "code",
   "execution_count": 13,
   "id": "891f7a84-b7c3-4b45-9cd8-9dc4e2852982",
   "metadata": {},
   "outputs": [
    {
     "name": "stdout",
     "output_type": "stream",
     "text": [
      "\u001b[1m  6/395\u001b[0m \u001b[37m━━━━━━━━━━━━━━━━━━━━\u001b[0m \u001b[1m4s\u001b[0m 11ms/step  "
     ]
    },
    {
     "name": "stderr",
     "output_type": "stream",
     "text": [
      "2025-05-06 22:49:48.297979: W external/local_tsl/tsl/framework/cpu_allocator_impl.cc:83] Allocation of 136404000 exceeds 10% of free system memory.\n"
     ]
    },
    {
     "name": "stdout",
     "output_type": "stream",
     "text": [
      "\u001b[1m395/395\u001b[0m \u001b[32m━━━━━━━━━━━━━━━━━━━━\u001b[0m\u001b[37m\u001b[0m \u001b[1m4s\u001b[0m 10ms/step\n"
     ]
    },
    {
     "data": {
      "text/plain": [
       "array([16,  1, 38, ..., 32,  7, 10])"
      ]
     },
     "execution_count": 13,
     "metadata": {},
     "output_type": "execute_result"
    }
   ],
   "source": [
    "y_prob = model.predict(X_test)\n",
    "\n",
    "# Choose the class with the highest probability\n",
    "y_pred = np.argmax(y_prob, axis=1)\n",
    "y_pred"
   ]
  },
  {
   "cell_type": "code",
   "execution_count": 17,
   "id": "1bab8fd8-b539-442c-9900-56822bf879e9",
   "metadata": {},
   "outputs": [
    {
     "name": "stdout",
     "output_type": "stream",
     "text": [
      "0.9616785431512272\n"
     ]
    }
   ],
   "source": [
    "from sklearn.metrics import accuracy_score\n",
    "print(accuracy_score(label,y_pred))"
   ]
  },
  {
   "cell_type": "code",
   "execution_count": 21,
   "id": "e634703c-8079-4f1e-a405-b689fb74164f",
   "metadata": {},
   "outputs": [],
   "source": [
    "model.save(\"./training/TSR.keras\")\n"
   ]
  },
  {
   "cell_type": "code",
   "execution_count": 4,
   "id": "19573ee3-0640-4392-8822-58eb2df5c348",
   "metadata": {},
   "outputs": [
    {
     "name": "stdout",
     "output_type": "stream",
     "text": [
      "2.17.0\n"
     ]
    }
   ],
   "source": [
    "import tensorflow as tf\n",
    "print(tf.__version__)"
   ]
  },
  {
   "cell_type": "code",
   "execution_count": 8,
   "id": "feaa3c9b-feec-4b79-bcbb-f450d46f0128",
   "metadata": {},
   "outputs": [
    {
     "name": "stderr",
     "output_type": "stream",
     "text": [
      "/home/hassan/miniconda3/envs/tf-env/lib/python3.12/site-packages/keras/src/saving/saving_lib.py:719: UserWarning: Skipping variable loading for optimizer 'rmsprop', because it has 10 variables whereas the saved optimizer has 18 variables. \n",
      "  saveable.load_own_variables(weights_store.get(inner_path))\n"
     ]
    }
   ],
   "source": [
    "\n",
    "from tensorflow import keras\n",
    "from keras.layers import Dense\n",
    "from keras.models import Sequential, load_model\n",
    "#from tensorflow.keras.models import load_model\n",
    "\n",
    "model = load_model(\"./training/TSR.keras\")\n"
   ]
  },
  {
   "cell_type": "code",
   "execution_count": null,
   "id": "d59f134b-2741-40dd-8dbd-b3edab157ff6",
   "metadata": {},
   "outputs": [],
   "source": []
  }
 ],
 "metadata": {
  "kernelspec": {
   "display_name": "Python 3 (ipykernel)",
   "language": "python",
   "name": "python3"
  },
  "language_info": {
   "codemirror_mode": {
    "name": "ipython",
    "version": 3
   },
   "file_extension": ".py",
   "mimetype": "text/x-python",
   "name": "python",
   "nbconvert_exporter": "python",
   "pygments_lexer": "ipython3",
   "version": "3.12.9"
  }
 },
 "nbformat": 4,
 "nbformat_minor": 5
}
